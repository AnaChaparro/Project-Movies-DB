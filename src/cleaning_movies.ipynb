{
 "cells": [
  {
   "cell_type": "markdown",
   "id": "55ad8ecf",
   "metadata": {},
   "source": [
    "## Funciones de limpieza."
   ]
  },
  {
   "cell_type": "code",
   "execution_count": 1,
   "id": "0d67edea",
   "metadata": {},
   "outputs": [
    {
     "name": "stdout",
     "output_type": "stream",
     "text": [
      "Requirement already satisfied: ipython in /Users/anachaparrohernandez/opt/anaconda3/envs/clase/lib/python3.7/site-packages (7.34.0)\n",
      "Requirement already satisfied: prompt-toolkit!=3.0.0,!=3.0.1,<3.1.0,>=2.0.0 in /Users/anachaparrohernandez/opt/anaconda3/envs/clase/lib/python3.7/site-packages (from ipython) (3.0.31)\n",
      "Requirement already satisfied: setuptools>=18.5 in /Users/anachaparrohernandez/opt/anaconda3/envs/clase/lib/python3.7/site-packages (from ipython) (63.4.1)\n",
      "Requirement already satisfied: decorator in /Users/anachaparrohernandez/opt/anaconda3/envs/clase/lib/python3.7/site-packages (from ipython) (5.1.1)\n",
      "Requirement already satisfied: jedi>=0.16 in /Users/anachaparrohernandez/opt/anaconda3/envs/clase/lib/python3.7/site-packages (from ipython) (0.18.1)\n",
      "Requirement already satisfied: backcall in /Users/anachaparrohernandez/opt/anaconda3/envs/clase/lib/python3.7/site-packages (from ipython) (0.2.0)\n",
      "Requirement already satisfied: matplotlib-inline in /Users/anachaparrohernandez/opt/anaconda3/envs/clase/lib/python3.7/site-packages (from ipython) (0.1.6)\n",
      "Requirement already satisfied: pygments in /Users/anachaparrohernandez/opt/anaconda3/envs/clase/lib/python3.7/site-packages (from ipython) (2.13.0)\n",
      "Requirement already satisfied: appnope in /Users/anachaparrohernandez/opt/anaconda3/envs/clase/lib/python3.7/site-packages (from ipython) (0.1.3)\n",
      "Requirement already satisfied: pickleshare in /Users/anachaparrohernandez/opt/anaconda3/envs/clase/lib/python3.7/site-packages (from ipython) (0.7.5)\n",
      "Requirement already satisfied: traitlets>=4.2 in /Users/anachaparrohernandez/opt/anaconda3/envs/clase/lib/python3.7/site-packages (from ipython) (5.4.0)\n",
      "Requirement already satisfied: pexpect>4.3 in /Users/anachaparrohernandez/opt/anaconda3/envs/clase/lib/python3.7/site-packages (from ipython) (4.8.0)\n",
      "Requirement already satisfied: parso<0.9.0,>=0.8.0 in /Users/anachaparrohernandez/opt/anaconda3/envs/clase/lib/python3.7/site-packages (from jedi>=0.16->ipython) (0.8.3)\n",
      "Requirement already satisfied: ptyprocess>=0.5 in /Users/anachaparrohernandez/opt/anaconda3/envs/clase/lib/python3.7/site-packages (from pexpect>4.3->ipython) (0.7.0)\n",
      "Requirement already satisfied: wcwidth in /Users/anachaparrohernandez/opt/anaconda3/envs/clase/lib/python3.7/site-packages (from prompt-toolkit!=3.0.0,!=3.0.1,<3.1.0,>=2.0.0->ipython) (0.2.5)\n",
      "Note: you may need to restart the kernel to use updated packages.\n",
      "Requirement already satisfied: seaborn in /Users/anachaparrohernandez/opt/anaconda3/envs/clase/lib/python3.7/site-packages (0.12.1)\n",
      "Requirement already satisfied: pandas>=0.25 in /Users/anachaparrohernandez/opt/anaconda3/envs/clase/lib/python3.7/site-packages (from seaborn) (1.3.5)\n",
      "Requirement already satisfied: typing_extensions in /Users/anachaparrohernandez/opt/anaconda3/envs/clase/lib/python3.7/site-packages (from seaborn) (4.4.0)\n",
      "Requirement already satisfied: matplotlib!=3.6.1,>=3.1 in /Users/anachaparrohernandez/opt/anaconda3/envs/clase/lib/python3.7/site-packages (from seaborn) (3.5.3)\n",
      "Requirement already satisfied: numpy>=1.17 in /Users/anachaparrohernandez/opt/anaconda3/envs/clase/lib/python3.7/site-packages (from seaborn) (1.21.6)\n",
      "Requirement already satisfied: pillow>=6.2.0 in /Users/anachaparrohernandez/opt/anaconda3/envs/clase/lib/python3.7/site-packages (from matplotlib!=3.6.1,>=3.1->seaborn) (9.2.0)\n",
      "Requirement already satisfied: fonttools>=4.22.0 in /Users/anachaparrohernandez/opt/anaconda3/envs/clase/lib/python3.7/site-packages (from matplotlib!=3.6.1,>=3.1->seaborn) (4.38.0)\n",
      "Requirement already satisfied: pyparsing>=2.2.1 in /Users/anachaparrohernandez/opt/anaconda3/envs/clase/lib/python3.7/site-packages (from matplotlib!=3.6.1,>=3.1->seaborn) (3.0.9)\n",
      "Requirement already satisfied: cycler>=0.10 in /Users/anachaparrohernandez/opt/anaconda3/envs/clase/lib/python3.7/site-packages (from matplotlib!=3.6.1,>=3.1->seaborn) (0.11.0)\n",
      "Requirement already satisfied: python-dateutil>=2.7 in /Users/anachaparrohernandez/opt/anaconda3/envs/clase/lib/python3.7/site-packages (from matplotlib!=3.6.1,>=3.1->seaborn) (2.8.2)\n",
      "Requirement already satisfied: kiwisolver>=1.0.1 in /Users/anachaparrohernandez/opt/anaconda3/envs/clase/lib/python3.7/site-packages (from matplotlib!=3.6.1,>=3.1->seaborn) (1.4.4)\n",
      "Requirement already satisfied: packaging>=20.0 in /Users/anachaparrohernandez/opt/anaconda3/envs/clase/lib/python3.7/site-packages (from matplotlib!=3.6.1,>=3.1->seaborn) (21.3)\n",
      "Requirement already satisfied: pytz>=2017.3 in /Users/anachaparrohernandez/opt/anaconda3/envs/clase/lib/python3.7/site-packages (from pandas>=0.25->seaborn) (2022.4)\n",
      "Requirement already satisfied: six>=1.5 in /Users/anachaparrohernandez/opt/anaconda3/envs/clase/lib/python3.7/site-packages (from python-dateutil>=2.7->matplotlib!=3.6.1,>=3.1->seaborn) (1.16.0)\n",
      "Note: you may need to restart the kernel to use updated packages.\n"
     ]
    }
   ],
   "source": [
    "%pip install ipython\n",
    "%pip install seaborn\n",
    "\n",
    "import seaborn as sns\n",
    "import matplotlib.pyplot as plt\n",
    "import pandas as pd\n",
    "import sys\n",
    "import re"
   ]
  },
  {
   "cell_type": "code",
   "execution_count": 2,
   "id": "816b388a",
   "metadata": {},
   "outputs": [],
   "source": [
    "#Funciones para limpiar columna sapecial_features:"
   ]
  },
  {
   "cell_type": "code",
   "execution_count": 3,
   "id": "2d3faef6",
   "metadata": {},
   "outputs": [],
   "source": [
    "def deleted(e):\n",
    "    \n",
    "    if 'Deleted' in e:\n",
    "            \n",
    "        return 'Yes'\n",
    "        \n",
    "    else:\n",
    "            \n",
    "        return 'No'"
   ]
  },
  {
   "cell_type": "code",
   "execution_count": 4,
   "id": "c8cd492c",
   "metadata": {},
   "outputs": [],
   "source": [
    "def behind(e):\n",
    "    \n",
    "    if 'Behind' in e:\n",
    "            \n",
    "        return 'Yes'\n",
    "        \n",
    "    else:\n",
    "            \n",
    "        return 'No'"
   ]
  },
  {
   "cell_type": "code",
   "execution_count": 5,
   "id": "1ac1f69b",
   "metadata": {},
   "outputs": [],
   "source": [
    "def comentarios(e):\n",
    "    \n",
    "    if 'Commentaries' in e:\n",
    "            \n",
    "        return 'Yes'\n",
    "        \n",
    "    else:\n",
    "            \n",
    "        return 'No'"
   ]
  },
  {
   "cell_type": "code",
   "execution_count": 6,
   "id": "e448274e",
   "metadata": {},
   "outputs": [],
   "source": [
    "def trailer(e):\n",
    "    \n",
    "    if 'Trailers' in e:\n",
    "            \n",
    "        return 'Yes'\n",
    "        \n",
    "    else:\n",
    "            \n",
    "        return 'No'"
   ]
  },
  {
   "cell_type": "code",
   "execution_count": null,
   "id": "3fe27754",
   "metadata": {},
   "outputs": [],
   "source": []
  }
 ],
 "metadata": {
  "kernelspec": {
   "display_name": "clase",
   "language": "python",
   "name": "clase"
  },
  "language_info": {
   "codemirror_mode": {
    "name": "ipython",
    "version": 3
   },
   "file_extension": ".py",
   "mimetype": "text/x-python",
   "name": "python",
   "nbconvert_exporter": "python",
   "pygments_lexer": "ipython3",
   "version": "3.7.13"
  }
 },
 "nbformat": 4,
 "nbformat_minor": 5
}
